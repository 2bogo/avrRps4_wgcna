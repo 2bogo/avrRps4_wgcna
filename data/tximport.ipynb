{
 "cells": [
  {
   "cell_type": "code",
   "execution_count": 17,
   "id": "1d883b5a-deec-4c86-9985-bd2f48adec49",
   "metadata": {
    "tags": []
   },
   "outputs": [],
   "source": [
    "library(magrittr)\n",
    "library(dplyr)\n",
    "library(rtracklayer)\n",
    "library(tidyverse)\n",
    "library(\"tximport\")\n",
    "library(readr)"
   ]
  },
  {
   "cell_type": "code",
   "execution_count": 18,
   "id": "e1bee04d-bad5-4128-9406-74b7bcf146e4",
   "metadata": {},
   "outputs": [],
   "source": [
    "file = file.path('./ix/', \"Arabidopsis_thaliana.TAIR10.28.gff3\")"
   ]
  },
  {
   "cell_type": "code",
   "execution_count": 19,
   "id": "2918d76f-aa08-4cb0-9f47-b25617646f29",
   "metadata": {},
   "outputs": [],
   "source": [
    "gff = import(file)"
   ]
  },
  {
   "cell_type": "code",
   "execution_count": 20,
   "id": "b396714e-0e91-4072-96da-22bae06a1253",
   "metadata": {},
   "outputs": [],
   "source": [
    "tx2gene = tibble( txid = gff$transcript_id,    geneid = as.character(gff$Parent)) %>% na.omit()"
   ]
  },
  {
   "cell_type": "code",
   "execution_count": 35,
   "id": "e78c9764-f4eb-4bff-bfeb-a8c0b4c97897",
   "metadata": {
    "collapsed": true,
    "jupyter": {
     "outputs_hidden": true
    },
    "tags": []
   },
   "outputs": [
    {
     "name": "stderr",
     "output_type": "stream",
     "text": [
      "Note: importing `abundance.h5` is typically faster than `abundance.tsv`\n",
      "\n",
      "reading in files with read_tsv\n",
      "\n",
      "1 \n",
      "2 \n",
      "3 \n",
      "4 \n",
      "5 \n",
      "6 \n",
      "7 \n",
      "8 \n",
      "9 \n",
      "10 \n",
      "11 \n",
      "12 \n",
      "13 \n",
      "14 \n",
      "15 \n",
      "16 \n",
      "17 \n",
      "18 \n",
      "19 \n",
      "20 \n",
      "21 \n",
      "22 \n",
      "23 \n",
      "24 \n",
      "25 \n",
      "26 \n",
      "27 \n",
      "28 \n",
      "29 \n",
      "30 \n",
      "31 \n",
      "32 \n",
      "33 \n",
      "34 \n",
      "35 \n",
      "36 \n",
      "37 \n",
      "38 \n",
      "39 \n",
      "40 \n",
      "41 \n",
      "42 \n",
      "43 \n",
      "44 \n",
      "45 \n",
      "46 \n",
      "47 \n",
      "48 \n",
      "49 \n",
      "50 \n",
      "51 \n",
      "52 \n",
      "53 \n",
      "54 \n",
      "55 \n",
      "56 \n",
      "57 \n",
      "58 \n",
      "59 \n",
      "60 \n",
      "61 \n",
      "62 \n",
      "\n",
      "\n",
      "transcripts missing from tx2gene: 13535\n",
      "\n",
      "summarizing abundance\n",
      "\n",
      "summarizing counts\n",
      "\n",
      "summarizing length\n",
      "\n"
     ]
    }
   ],
   "source": [
    "files <- list.files('./tpm/' ,pattern='*.tsv', full.names=TRUE)      \n",
    "names(files) <-  gsub('_abundance.tsv',\"\", files )    \n",
    "txi.kallisto.tsv<- tximport(files,type='kallisto',tx2gene=tx2gene, ignoreAfterBar=TRUE, countsFromAbundance = \"lengthScaledTPM\")"
   ]
  },
  {
   "cell_type": "code",
   "execution_count": 39,
   "id": "91d840fb-5937-427f-906b-a811833a62e2",
   "metadata": {},
   "outputs": [
    {
     "data": {
      "text/html": [
       "<style>\n",
       ".list-inline {list-style: none; margin:0; padding: 0}\n",
       ".list-inline>li {display: inline-block}\n",
       ".list-inline>li:not(:last-child)::after {content: \"\\00b7\"; padding: 0 .5ex}\n",
       "</style>\n",
       "<ol class=list-inline><li>'abundance'</li><li>'counts'</li><li>'length'</li><li>'countsFromAbundance'</li></ol>\n"
      ],
      "text/latex": [
       "\\begin{enumerate*}\n",
       "\\item 'abundance'\n",
       "\\item 'counts'\n",
       "\\item 'length'\n",
       "\\item 'countsFromAbundance'\n",
       "\\end{enumerate*}\n"
      ],
      "text/markdown": [
       "1. 'abundance'\n",
       "2. 'counts'\n",
       "3. 'length'\n",
       "4. 'countsFromAbundance'\n",
       "\n",
       "\n"
      ],
      "text/plain": [
       "[1] \"abundance\"           \"counts\"              \"length\"             \n",
       "[4] \"countsFromAbundance\""
      ]
     },
     "metadata": {},
     "output_type": "display_data"
    }
   ],
   "source": [
    "names(txi.kallisto.tsv)"
   ]
  },
  {
   "cell_type": "code",
   "execution_count": 40,
   "id": "decbbf75-284a-49b3-84dd-2ead02abe3b7",
   "metadata": {},
   "outputs": [],
   "source": [
    "write.csv(\n",
    "  txi.kallisto.tsv$abundance,          \n",
    "  file=\"samplecounts2.csv\",            \n",
    "  row.names=TRUE )"
   ]
  },
  {
   "cell_type": "code",
   "execution_count": null,
   "id": "6189b888-f541-4814-b88c-7a8f1d12f0ff",
   "metadata": {},
   "outputs": [],
   "source": []
  }
 ],
 "metadata": {
  "kernelspec": {
   "display_name": "R",
   "language": "R",
   "name": "ir"
  },
  "language_info": {
   "codemirror_mode": "r",
   "file_extension": ".r",
   "mimetype": "text/x-r-source",
   "name": "R",
   "pygments_lexer": "r",
   "version": "3.6.3"
  }
 },
 "nbformat": 4,
 "nbformat_minor": 5
}
