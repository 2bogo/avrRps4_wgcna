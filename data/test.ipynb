{
 "cells": [
  {
   "cell_type": "code",
   "execution_count": 1,
   "id": "ed237161-57cd-4a96-a25c-44babd75d2cf",
   "metadata": {},
   "outputs": [],
   "source": [
    "import pandas as pd "
   ]
  },
  {
   "cell_type": "code",
   "execution_count": 20,
   "id": "999df91d-7218-4a2c-b84b-c6ddfb2bd22f",
   "metadata": {},
   "outputs": [],
   "source": [
    "df = pd.read_csv('./sampleCount2.csv')"
   ]
  },
  {
   "cell_type": "code",
   "execution_count": 21,
   "id": "21584953-ef1a-4d45-a54d-7d58cff48a22",
   "metadata": {},
   "outputs": [],
   "source": [
    "SRR_list = df.columns[1:]"
   ]
  },
  {
   "cell_type": "code",
   "execution_count": 22,
   "id": "a68f5ad6-74ad-475e-b180-af9ce5368342",
   "metadata": {},
   "outputs": [],
   "source": [
    "df_info = pd.read_csv('avrRps4SampleInfo.csv')"
   ]
  },
  {
   "cell_type": "code",
   "execution_count": 23,
   "id": "7042bac0-c7dd-4c43-8808-88f571f78fc0",
   "metadata": {},
   "outputs": [],
   "source": [
    "SRR_info_list = list(df_info['run'])"
   ]
  },
  {
   "cell_type": "code",
   "execution_count": 24,
   "id": "8422fd57-a092-4167-8e72-49bdb981e30a",
   "metadata": {},
   "outputs": [],
   "source": [
    "m = []\n",
    "for x in SRR_list:\n",
    "    if x in SRR_info_list:\n",
    "        m.append(True)\n",
    "    else:\n",
    "        m.append(False)"
   ]
  },
  {
   "cell_type": "code",
   "execution_count": 25,
   "id": "130b9846-dc8f-4bb5-84b6-67b8ec5b89aa",
   "metadata": {},
   "outputs": [],
   "source": [
    "df[['target_id'] + list(SRR_list[m])].set_index('target_id').to_csv('avrRps4_counts.csv')"
   ]
  },
  {
   "cell_type": "code",
   "execution_count": null,
   "id": "0c42ee9d-c09c-4c02-9aae-1db3404395b9",
   "metadata": {},
   "outputs": [],
   "source": []
  }
 ],
 "metadata": {
  "kernelspec": {
   "display_name": "Python 3",
   "language": "python",
   "name": "python3"
  },
  "language_info": {
   "codemirror_mode": {
    "name": "ipython",
    "version": 3
   },
   "file_extension": ".py",
   "mimetype": "text/x-python",
   "name": "python",
   "nbconvert_exporter": "python",
   "pygments_lexer": "ipython3",
   "version": "3.6.9"
  }
 },
 "nbformat": 4,
 "nbformat_minor": 5
}
