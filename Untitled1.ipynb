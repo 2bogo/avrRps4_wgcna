{
 "cells": [
  {
   "cell_type": "code",
   "execution_count": 1,
   "id": "de02855d-3729-4853-ac5d-982a9d175802",
   "metadata": {},
   "outputs": [],
   "source": [
    "import pandas as pd"
   ]
  },
  {
   "cell_type": "code",
   "execution_count": 2,
   "id": "f210ef84-a135-43d6-ab07-520f3a1ab957",
   "metadata": {},
   "outputs": [],
   "source": [
    "df = pd.read_csv('module_darkturquoise.csv')"
   ]
  },
  {
   "cell_type": "code",
   "execution_count": 7,
   "id": "01571e60-79e3-4a49-8d57-c8f3e38d8ec2",
   "metadata": {},
   "outputs": [],
   "source": [
    "df = df.rename(columns={'Unnamed: 0': 'sample'})"
   ]
  },
  {
   "cell_type": "code",
   "execution_count": 11,
   "id": "3d4117b3-b265-4ddc-95b6-5e70c63b7838",
   "metadata": {},
   "outputs": [],
   "source": [
    "df = df.set_index('sample')"
   ]
  },
  {
   "cell_type": "code",
   "execution_count": 13,
   "id": "dc3679b9-eca0-47e9-ad8f-ca1678d57f81",
   "metadata": {},
   "outputs": [],
   "source": [
    "gene_list = [x.split('.')[0] for x in df.columns]"
   ]
  },
  {
   "cell_type": "code",
   "execution_count": 15,
   "id": "bad31936-025a-4a7e-b013-ecf5231639f0",
   "metadata": {},
   "outputs": [],
   "source": [
    "f = open('cadidatedGene.txt', 'w')\n",
    "for x in gene_list:\n",
    "    f.write(x+'\\n')\n",
    "f.close()"
   ]
  },
  {
   "cell_type": "code",
   "execution_count": null,
   "id": "77d7230b-cebc-48ab-b79d-671a32419276",
   "metadata": {},
   "outputs": [],
   "source": []
  }
 ],
 "metadata": {
  "kernelspec": {
   "display_name": "Python 3",
   "language": "python",
   "name": "python3"
  },
  "language_info": {
   "codemirror_mode": {
    "name": "ipython",
    "version": 3
   },
   "file_extension": ".py",
   "mimetype": "text/x-python",
   "name": "python",
   "nbconvert_exporter": "python",
   "pygments_lexer": "ipython3",
   "version": "3.6.9"
  }
 },
 "nbformat": 4,
 "nbformat_minor": 5
}
